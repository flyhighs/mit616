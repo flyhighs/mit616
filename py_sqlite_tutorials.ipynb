{
 "cells": [
  {
   "cell_type": "markdown",
   "metadata": {
    "slideshow": {
     "slide_type": "slide"
    }
   },
   "source": [
    "# Python sqlite3 Tutorials"
   ]
  },
  {
   "cell_type": "code",
   "execution_count": null,
   "metadata": {
    "collapsed": true
   },
   "outputs": [],
   "source": []
  },
  {
   "cell_type": "code",
   "execution_count": 1,
   "metadata": {
    "collapsed": false,
    "slideshow": {
     "slide_type": "skip"
    }
   },
   "outputs": [],
   "source": [
    "##%reload_ext load_style\n",
    "##%load_style ../custom/talk.css"
   ]
  },
  {
   "cell_type": "markdown",
   "metadata": {
    "collapsed": true,
    "slideshow": {
     "slide_type": "slide"
    }
   },
   "source": [
    "## Check environment"
   ]
  },
  {
   "cell_type": "code",
   "execution_count": 2,
   "metadata": {
    "collapsed": false,
    "slideshow": {
     "slide_type": "fragment"
    }
   },
   "outputs": [
    {
     "data": {
      "text/plain": [
       "'2.6.0'"
      ]
     },
     "execution_count": 2,
     "metadata": {},
     "output_type": "execute_result"
    }
   ],
   "source": [
    "import sqlite3\n",
    "sqlite3.version"
   ]
  },
  {
   "cell_type": "code",
   "execution_count": 3,
   "metadata": {
    "collapsed": false,
    "slideshow": {
     "slide_type": "fragment"
    }
   },
   "outputs": [
    {
     "data": {
      "text/plain": [
       "'3.13.0'"
      ]
     },
     "execution_count": 3,
     "metadata": {},
     "output_type": "execute_result"
    }
   ],
   "source": [
    "sqlite3.sqlite_version"
   ]
  },
  {
   "cell_type": "markdown",
   "metadata": {
    "slideshow": {
     "slide_type": "slide"
    }
   },
   "source": [
    "### Example code using sqlite3 "
   ]
  },
  {
   "cell_type": "code",
   "execution_count": 4,
   "metadata": {
    "collapsed": false,
    "slideshow": {
     "slide_type": "fragment"
    }
   },
   "outputs": [
    {
     "name": "stdout",
     "output_type": "stream",
     "text": [
      "SQLite version: ('3.13.0',)\n"
     ]
    }
   ],
   "source": [
    "import sqlite3 as lite\n",
    "import sys\n",
    "\n",
    "con = None\n",
    "db_filepath = 'test.db'\n",
    "\n",
    "try:\n",
    "    con = lite.connect(db_filepath)\n",
    "    cur = con.cursor()    \n",
    "    cur.execute('SELECT SQLITE_VERSION()')\n",
    "    \n",
    "    data = cur.fetchone()\n",
    "    print(\"SQLite version: {}\".format(data)) \n",
    "    \n",
    "except lite.Error as e:\n",
    "    print(\"Error {}:\".format(e.args[0]))\n",
    "    sys.exit(1)\n",
    "    \n",
    "finally:\n",
    "    if con:\n",
    "        con.close()"
   ]
  },
  {
   "cell_type": "markdown",
   "metadata": {
    "slideshow": {
     "slide_type": "slide"
    }
   },
   "source": [
    "### Create test.db \n",
    "- **test.db** in subdirectory 'src\\db'"
   ]
  },
  {
   "cell_type": "code",
   "execution_count": 5,
   "metadata": {
    "collapsed": false,
    "slideshow": {
     "slide_type": "fragment"
    }
   },
   "outputs": [],
   "source": [
    "import sqlite3 as lite\n",
    "import sys\n",
    "con = lite.connect('data//test.db')\n",
    "\n",
    "with con:\n",
    "    cur = con.cursor()    \n",
    "    cur.execute(\"CREATE TABLE Cars(Id INT, Name TEXT, Price INT)\")\n",
    "    cur.execute(\"INSERT INTO Cars VALUES(1,'Audi',52642)\")\n",
    "    cur.execute(\"INSERT INTO Cars VALUES(2,'Mercedes',57127)\")\n",
    "    cur.execute(\"INSERT INTO Cars VALUES(3,'Skoda',9000)\")\n",
    "    cur.execute(\"INSERT INTO Cars VALUES(4,'Volvo',29000)\")\n",
    "    cur.execute(\"INSERT INTO Cars VALUES(5,'Bentley',350000)\")\n",
    "    cur.execute(\"INSERT INTO Cars VALUES(6,'Citroen',21000)\")\n",
    "    cur.execute(\"INSERT INTO Cars VALUES(7,'Hummer',41400)\")\n",
    "    cur.execute(\"INSERT INTO Cars VALUES(8,'Volkswagen',21600)\")"
   ]
  },
  {
   "cell_type": "code",
   "execution_count": 6,
   "metadata": {
    "collapsed": false,
    "slideshow": {
     "slide_type": "fragment"
    }
   },
   "outputs": [],
   "source": [
    "con.commit()\n",
    "con.close()"
   ]
  },
  {
   "cell_type": "markdown",
   "metadata": {
    "slideshow": {
     "slide_type": "slide"
    }
   },
   "source": [
    "## List files in a given directory"
   ]
  },
  {
   "cell_type": "code",
   "execution_count": 7,
   "metadata": {
    "collapsed": false,
    "slideshow": {
     "slide_type": "fragment"
    }
   },
   "outputs": [],
   "source": [
    "from os import listdir\n",
    "from os.path import isfile, join\n",
    "\n",
    "def listFiles(path):\n",
    "    onlyfiles = []\n",
    "\n",
    "    for f in listdir(dbpath):\n",
    "        if isfile(f):\n",
    "            onlyfiles.append(f)\n",
    "\n",
    "    # OR just a single statement:\n",
    "    #onlyfiles = [f for f in listdir(dbpath) if isfile(join(dbpath, f))]\n",
    "\n",
    "    print(onlyfiles)"
   ]
  },
  {
   "cell_type": "code",
   "execution_count": 8,
   "metadata": {
    "collapsed": false
   },
   "outputs": [
    {
     "name": "stdout",
     "output_type": "stream",
     "text": [
      "['test.db']\n"
     ]
    }
   ],
   "source": [
    "dbpath = 'data'\n",
    "listFiles( dbpath )"
   ]
  },
  {
   "cell_type": "code",
   "execution_count": 9,
   "metadata": {
    "collapsed": false
   },
   "outputs": [
    {
     "name": "stdout",
     "output_type": "stream",
     "text": [
      "./data:\r\n",
      "total 8\r\n",
      "-rw-r--r-- 1 ubuntu ubuntu 8192 Nov 12 16:59 test.db\r\n"
     ]
    }
   ],
   "source": [
    "!ls ./data -lR"
   ]
  },
  {
   "cell_type": "code",
   "execution_count": 10,
   "metadata": {
    "collapsed": false,
    "slideshow": {
     "slide_type": "fragment"
    }
   },
   "outputs": [],
   "source": [
    "# !dir src\\db\\*.db /B/A     &REM Windows CLI command"
   ]
  },
  {
   "cell_type": "markdown",
   "metadata": {
    "slideshow": {
     "slide_type": "slide"
    }
   },
   "source": [
    "## Retrieving data"
   ]
  },
  {
   "cell_type": "code",
   "execution_count": 11,
   "metadata": {
    "collapsed": true,
    "slideshow": {
     "slide_type": "fragment"
    }
   },
   "outputs": [],
   "source": [
    "# db_filepath = 'src\\\\db\\\\test.db'      # for Windows\n",
    "db_filepath = 'data/test.db'"
   ]
  },
  {
   "cell_type": "code",
   "execution_count": 12,
   "metadata": {
    "collapsed": false,
    "slideshow": {
     "slide_type": "fragment"
    }
   },
   "outputs": [
    {
     "name": "stdout",
     "output_type": "stream",
     "text": [
      "(1, 'Audi', 52642)\n",
      "(2, 'Mercedes', 57127)\n",
      "(3, 'Skoda', 9000)\n",
      "(4, 'Volvo', 29000)\n",
      "(5, 'Bentley', 350000)\n",
      "(6, 'Citroen', 21000)\n",
      "(7, 'Hummer', 41400)\n",
      "(8, 'Volkswagen', 21600)\n"
     ]
    }
   ],
   "source": [
    "import sqlite3 as lite\n",
    "import sys\n",
    "\n",
    "con = lite.connect( db_filepath )\n",
    "with con:    \n",
    "    cur = con.cursor()    \n",
    "    cur.execute(\"SELECT * FROM Cars\")\n",
    "\n",
    "    rows = cur.fetchall()  # a Tuple of Tuples as the execution of SQL\n",
    "    for row in rows:       # row is a Tuple\n",
    "        print(row)\n",
    "con.close()"
   ]
  },
  {
   "cell_type": "markdown",
   "metadata": {
    "slideshow": {
     "slide_type": "slide"
    }
   },
   "source": [
    "## The dictionary cursor\n",
    "\n",
    "The default cursor returns the data in **a tuple of tuples**. When we use a dictionary cursor, the data is sent in the form of Python dictionaries. This way we can refer to the data by their column names."
   ]
  },
  {
   "cell_type": "code",
   "execution_count": 13,
   "metadata": {
    "collapsed": false,
    "slideshow": {
     "slide_type": "subslide"
    }
   },
   "outputs": [
    {
     "name": "stdout",
     "output_type": "stream",
     "text": [
      "  1 Audi                  52,642.00\n",
      "  2 Mercedes              57,127.00\n",
      "  3 Skoda                  9,000.00\n",
      "  4 Volvo                 29,000.00\n",
      "  5 Bentley              350,000.00\n",
      "  6 Citroen               21,000.00\n",
      "  7 Hummer                41,400.00\n",
      "  8 Volkswagen            21,600.00\n"
     ]
    }
   ],
   "source": [
    "import sqlite3 as lite\n",
    "\n",
    "con = lite.connect( db_filepath )    \n",
    "with con:\n",
    "    con.row_factory = lite.Row\n",
    "    \n",
    "    cur = con.cursor() \n",
    "    cur.execute(\"SELECT * FROM Cars\")\n",
    "\n",
    "    rows = cur.fetchall()\n",
    "    for row in rows:\n",
    "        print( \"{:3} {:20s} {:>10,.2f}\".format(\n",
    "                row[\"Id\"], row[\"Name\"], row[\"Price\"]))\n",
    "        \n",
    "con.close()"
   ]
  },
  {
   "cell_type": "markdown",
   "metadata": {
    "slideshow": {
     "slide_type": "slide"
    }
   },
   "source": [
    "## Parameterized queries\n",
    "\n",
    "When we use **parameterized queries**, we use *placeholders* instead of directly writing the values into the statements.\n",
    "- Parameterized queries increase security and performance.\n",
    "- The Python sqlite3 module supports two types of placeholders: **question marks** and **named placeholders**."
   ]
  },
  {
   "cell_type": "code",
   "execution_count": 14,
   "metadata": {
    "collapsed": false,
    "slideshow": {
     "slide_type": "subslide"
    }
   },
   "outputs": [
    {
     "name": "stdout",
     "output_type": "stream",
     "text": [
      "Number of rows updated: 1\n"
     ]
    }
   ],
   "source": [
    "import sqlite3 as lite\n",
    "import sys\n",
    "\n",
    "uId = 1\n",
    "uPrice = 62300 \n",
    "con = lite.connect(db_filepath)\n",
    "with con:\n",
    "    cur = con.cursor()    \n",
    "\n",
    "    cur.execute(\"UPDATE Cars SET Price=? WHERE Id=?\", (uPrice, uId))        \n",
    "    con.commit()\n",
    "    \n",
    "    print(\"Number of rows updated: {}\".format(cur.rowcount))\n",
    "\n",
    "con.commit()\n",
    "con.close()"
   ]
  },
  {
   "cell_type": "markdown",
   "metadata": {
    "slideshow": {
     "slide_type": "subslide"
    }
   },
   "source": [
    "We update a price of one car. In this code example, we use the **question mark** placeholders.\n",
    "\n",
    "```sql\n",
    "cur.execute(\"UPDATE Cars SET Price=? WHERE Id=?\", (uPrice, uId)) \n",
    "```\n",
    "\n",
    "The question marks `?` are placeholders for values. The values are added to the placeholders. \n",
    "\n",
    "The `rowcount` property returns the number of updated rows. In our case one row was updated."
   ]
  },
  {
   "cell_type": "markdown",
   "metadata": {
    "slideshow": {
     "slide_type": "slide"
    }
   },
   "source": [
    "## Getting column names"
   ]
  },
  {
   "cell_type": "code",
   "execution_count": 15,
   "metadata": {
    "collapsed": false,
    "slideshow": {
     "slide_type": "fragment"
    }
   },
   "outputs": [
    {
     "data": {
      "text/plain": [
       "['Id', 'Name', 'Price']"
      ]
     },
     "execution_count": 15,
     "metadata": {},
     "output_type": "execute_result"
    }
   ],
   "source": [
    "import sqlite3 as lite\n",
    "con = lite.connect( db_filepath )\n",
    "cursor = con.execute('SELECT * FROM Cars')\n",
    "\n",
    "names = list(map(lambda x: x[0], cursor.description))\n",
    "con.close()\n",
    "\n",
    "names"
   ]
  },
  {
   "cell_type": "markdown",
   "metadata": {
    "slideshow": {
     "slide_type": "slide"
    }
   },
   "source": [
    "## Def listDbSchema"
   ]
  },
  {
   "cell_type": "code",
   "execution_count": 16,
   "metadata": {
    "collapsed": false,
    "slideshow": {
     "slide_type": "fragment"
    }
   },
   "outputs": [],
   "source": [
    "import sqlite3 as lite \n",
    "\n",
    "def listDbSchema(db_filepath):\n",
    "    \"\"\" Print the schemas of Tables in a database with athe given file path \"\"\"\n",
    "    con = lite.connect(db_filepath)\n",
    "    cur = con.cursor()\n",
    "    \n",
    "    sql_lsTables = \"SELECT name FROM sqlite_master WHERE type='table';\"\n",
    "    cur.execute(sql_lsTables)\n",
    "    table_names = cur.fetchall()\n",
    "    \n",
    "    for name in table_names:\n",
    "        s = \"PRAGMA table_info({:s})\".format(name[0])\n",
    "        cur.execute(s)\n",
    "        tableinfo = cur.fetchall()\n",
    "        print('{} Table: {:^15} {}'.format('-'*15, name[0], '-'*15))\n",
    "        for row in tableinfo:\n",
    "            print(\"{!s:3} {!s:16}{!s:12}{!s:>4} {!s:10} {!s:>4}\".format(*row))\n",
    "            \n",
    "    con.close()"
   ]
  },
  {
   "cell_type": "code",
   "execution_count": 17,
   "metadata": {
    "collapsed": false,
    "slideshow": {
     "slide_type": "subslide"
    }
   },
   "outputs": [
    {
     "name": "stdout",
     "output_type": "stream",
     "text": [
      "--------------- Table:      Cars       ---------------\n",
      "0   Id              INT            0 None          0\n",
      "1   Name            TEXT           0 None          0\n",
      "2   Price           INT            0 None          0\n"
     ]
    }
   ],
   "source": [
    "# example using listDbSchema()\n",
    "\n",
    "listDbSchema( db_filepath )"
   ]
  },
  {
   "cell_type": "code",
   "execution_count": null,
   "metadata": {
    "collapsed": true,
    "slideshow": {
     "slide_type": "skip"
    }
   },
   "outputs": [],
   "source": []
  },
  {
   "cell_type": "markdown",
   "metadata": {
    "slideshow": {
     "slide_type": "slide"
    }
   },
   "source": [
    "## SQLite - Useful Functions\n",
    "\n",
    "> SQLite documentation : \n",
    ">  - [SQLite Functions](https://www.sqlite.org/c3ref/funclist.html)\n",
    ">  - [Core Functions](https://www.sqlite.org/lang_corefunc.html)"
   ]
  },
  {
   "cell_type": "code",
   "execution_count": 18,
   "metadata": {
    "collapsed": false,
    "slideshow": {
     "slide_type": "subslide"
    }
   },
   "outputs": [
    {
     "name": "stdout",
     "output_type": "stream",
     "text": [
      "Car Prices:-----------\n",
      "Min  :   9,000.00 \n",
      "Max  : 350,000.00 \n",
      "Avg  :  73,928.38 \n",
      "----------------------\n",
      "Count:          8 \n"
     ]
    }
   ],
   "source": [
    "import sqlite3 as lite\n",
    "import sys\n",
    "\n",
    "con = lite.connect(db_filepath)\n",
    "with con:    \n",
    "    cur = con.cursor()\n",
    "    sql = \"SELECT max(price) FROM Cars\"\n",
    "    cur.execute(sql)\n",
    "    price_max = cur.fetchall()\n",
    "\n",
    "    sql = \"SELECT min(price) FROM Cars\"\n",
    "    cur.execute(sql)\n",
    "    price_min = cur.fetchall()\n",
    "    \n",
    "    sql = \"SELECT avg(price) FROM Cars\"\n",
    "    cur.execute(sql)\n",
    "    price_avg = cur.fetchall()\n",
    "\n",
    "    sql = \"SELECT count(price) FROM Cars\"\n",
    "    cur.execute(sql)\n",
    "    price_cnt = cur.fetchall()\n",
    "    \n",
    "    print(\"Car Prices:-----------\")\n",
    "    print( \"Min  : {:>10,.2f} \".format(price_min[0][0]))\n",
    "    print( \"Max  : {:>10,.2f} \".format(price_max[0][0]))\n",
    "    print( \"Avg  : {:>10,.2f} \".format(price_avg[0][0]))\n",
    "    print('-'*22)\n",
    "    print( \"Count: {:>10} \".format(price_cnt[0][0]))\n",
    "\n",
    "con.close()"
   ]
  },
  {
   "cell_type": "code",
   "execution_count": null,
   "metadata": {
    "collapsed": true,
    "slideshow": {
     "slide_type": "skip"
    }
   },
   "outputs": [],
   "source": []
  },
  {
   "cell_type": "markdown",
   "metadata": {
    "slideshow": {
     "slide_type": "slide"
    }
   },
   "source": [
    "## Def listDbFiles"
   ]
  },
  {
   "cell_type": "code",
   "execution_count": 19,
   "metadata": {
    "collapsed": false,
    "slideshow": {
     "slide_type": "fragment"
    }
   },
   "outputs": [],
   "source": [
    "import sqlite3 as lite\n",
    "\n",
    "def listDbFiles(db_filepath):\n",
    "    con = lite.connect(db_filepath)\n",
    "    cur = con.cursor()\n",
    "    cur.execute(\"PRAGMA database_list\")\n",
    "    rows = cur.fetchall()\n",
    "    con.close()\n",
    "\n",
    "    for row in rows:\n",
    "        print(\"{!s:4} {!s:16} {}\".format(*row))"
   ]
  },
  {
   "cell_type": "code",
   "execution_count": 20,
   "metadata": {
    "collapsed": false,
    "slideshow": {
     "slide_type": "subslide"
    }
   },
   "outputs": [
    {
     "name": "stdout",
     "output_type": "stream",
     "text": [
      "0    main             /home/ubuntu/workspace/notebooks/data/test.db\n"
     ]
    }
   ],
   "source": [
    "listDbFiles( db_filepath )"
   ]
  },
  {
   "cell_type": "code",
   "execution_count": null,
   "metadata": {
    "collapsed": false,
    "slideshow": {
     "slide_type": "skip"
    }
   },
   "outputs": [],
   "source": []
  },
  {
   "cell_type": "markdown",
   "metadata": {
    "collapsed": true,
    "slideshow": {
     "slide_type": "slide"
    }
   },
   "source": [
    "## Def listMaster"
   ]
  },
  {
   "cell_type": "code",
   "execution_count": 21,
   "metadata": {
    "collapsed": false,
    "slideshow": {
     "slide_type": "subslide"
    }
   },
   "outputs": [],
   "source": [
    "import sqlite3 as lite\n",
    "\n",
    "def listMaster(db_filepath):\n",
    "    con = lite.connect(db_filepath)\n",
    "    cur = con.cursor()\n",
    "    cur.execute(\"PRAGMA table_info('sqlite_master')\")\n",
    "    rows = cur.fetchall()\n",
    "    con.close()\n",
    "\n",
    "    for row in rows:\n",
    "        print(\"{:4} {:16} {:4}\".format(*row))"
   ]
  },
  {
   "cell_type": "code",
   "execution_count": 22,
   "metadata": {
    "collapsed": false,
    "slideshow": {
     "slide_type": "fragment"
    }
   },
   "outputs": [
    {
     "name": "stdout",
     "output_type": "stream",
     "text": [
      "   0 type             text\n",
      "   1 name             text\n",
      "   2 tbl_name         text\n",
      "   3 rootpage         integer\n",
      "   4 sql              text\n"
     ]
    }
   ],
   "source": [
    "listMaster( db_filepath )"
   ]
  },
  {
   "cell_type": "markdown",
   "metadata": {
    "slideshow": {
     "slide_type": "slide"
    }
   },
   "source": [
    "## Def listForeignKeys()"
   ]
  },
  {
   "cell_type": "code",
   "execution_count": 23,
   "metadata": {
    "collapsed": false,
    "slideshow": {
     "slide_type": "subslide"
    }
   },
   "outputs": [],
   "source": [
    "import sqlite3 as lite\n",
    "\n",
    "def listForeignKeys(db_filepath, table_name):\n",
    "    con = lite.connect(db_filepath)\n",
    "    cur = con.cursor()\n",
    "    \n",
    "    s= \"PRAGMA foreign_key_list({})\".format(table_name)\n",
    "    cur.execute( s )\n",
    "    rows = cur.fetchall()\n",
    "    con.close()\n",
    "\n",
    "    pHead_str = \"Database: {}, Table {}: {}\"\n",
    "    pDetail_str = \"{!s:4}{!s:4} {!s:15} {!s:15} {!s:15} {!s:10} {!s:10} {!s:10}\"\n",
    "    print(pHead_str.format(db_filepath, table_name, '-'*42))\n",
    "    if (len(rows) > 0):\n",
    "        for row in rows:\n",
    "            print(pDetail_str.format(*row))\n",
    "    else:\n",
    "        print(\"--- no foreign key ---\")"
   ]
  },
  {
   "cell_type": "code",
   "execution_count": 24,
   "metadata": {
    "collapsed": false,
    "slideshow": {
     "slide_type": "fragment"
    }
   },
   "outputs": [
    {
     "name": "stdout",
     "output_type": "stream",
     "text": [
      "Database: data/test.db, Table Prices: ------------------------------------------\n",
      "--- no foreign key ---\n"
     ]
    }
   ],
   "source": [
    "listForeignKeys(db_filepath, 'Prices')"
   ]
  },
  {
   "cell_type": "markdown",
   "metadata": {
    "collapsed": true,
    "slideshow": {
     "slide_type": "slide"
    }
   },
   "source": [
    "## Def listTables()"
   ]
  },
  {
   "cell_type": "code",
   "execution_count": 25,
   "metadata": {
    "collapsed": false,
    "slideshow": {
     "slide_type": "fragment"
    }
   },
   "outputs": [],
   "source": [
    "import sqlite3 as lite\n",
    "\n",
    "def listTables(db_filename):\n",
    "    sql = \"SELECT name, sql FROM sqlite_master WHERE type='table' ORDER BY name;\"\n",
    "\n",
    "    con = lite.connect(db_filename)\n",
    "    cur = con.cursor()\n",
    "    cur.execute(sql)\n",
    "    rows = cur.fetchall()\n",
    "    con.close()\n",
    "\n",
    "    for row in rows:\n",
    "        print(\"{:4} {:16}\".format(*row))"
   ]
  },
  {
   "cell_type": "code",
   "execution_count": 26,
   "metadata": {
    "collapsed": false,
    "slideshow": {
     "slide_type": "fragment"
    }
   },
   "outputs": [
    {
     "name": "stdout",
     "output_type": "stream",
     "text": [
      "Cars CREATE TABLE Cars(Id INT, Name TEXT, Price INT)\n"
     ]
    }
   ],
   "source": [
    "listTables( db_filepath )"
   ]
  },
  {
   "cell_type": "markdown",
   "metadata": {
    "slideshow": {
     "slide_type": "slide"
    }
   },
   "source": [
    "## Execute sql from a file"
   ]
  },
  {
   "cell_type": "code",
   "execution_count": 27,
   "metadata": {
    "collapsed": false,
    "slideshow": {
     "slide_type": "subslide"
    }
   },
   "outputs": [],
   "source": [
    "from sqlite3 import OperationalError\n",
    "\n",
    "def executeSQLScript(connection, filename):\n",
    "    # Open and read the file as a single buffer\n",
    "    fd = open(filename, 'r')\n",
    "    sqlFile = fd.read()\n",
    "    fd.close()\n",
    "\n",
    "    c = connection.cursor()\n",
    "    c.execute(\"PRAGMA foreign_keys = ON\")\n",
    "\n",
    "    # all SQL commands (split on ';')\n",
    "    sqlCommands = sqlFile.split(';')\n",
    "\n",
    "    # Execute every command from the input file\n",
    "    for command in sqlCommands:\n",
    "        # This will skip and report errors\n",
    "        # For example, if the tables do not yet exist, this will skip over\n",
    "        # the DROP TABLE commands\n",
    "        try:\n",
    "            c.execute(command)\n",
    "        except OperationalError as msg:\n",
    "            print(\"Command skipped: {!s}\".format(msg))\n",
    "    con.commit()"
   ]
  },
  {
   "cell_type": "markdown",
   "metadata": {
    "slideshow": {
     "slide_type": "subslide"
    }
   },
   "source": [
    "## Create example2_products.db"
   ]
  },
  {
   "cell_type": "code",
   "execution_count": 29,
   "metadata": {
    "collapsed": false,
    "slideshow": {
     "slide_type": "fragment"
    }
   },
   "outputs": [],
   "source": [
    "import sqlite3 as lite\n",
    "import os\n",
    "\n",
    "example2_db_filename = \"src/db/example2_products.db\"\n",
    "con = lite.connect(example2_db_filename) \n",
    "\n",
    "sql_filepath = 'src/create_table_example2.sql'\n",
    "executeSQLScript(con, sql_filepath)\n",
    "\n",
    "con.close()"
   ]
  },
  {
   "cell_type": "code",
   "execution_count": 30,
   "metadata": {
    "collapsed": false,
    "slideshow": {
     "slide_type": "fragment"
    }
   },
   "outputs": [
    {
     "name": "stdout",
     "output_type": "stream",
     "text": [
      "['test.db']\n"
     ]
    }
   ],
   "source": [
    "listFiles( dbpath )"
   ]
  },
  {
   "cell_type": "code",
   "execution_count": 31,
   "metadata": {
    "collapsed": false,
    "slideshow": {
     "slide_type": "subslide"
    }
   },
   "outputs": [
    {
     "name": "stdout",
     "output_type": "stream",
     "text": [
      "Table Company :-----------\n",
      "         Count:          4 \n",
      "Table Product :-----------\n",
      "         Count:          5 \n"
     ]
    }
   ],
   "source": [
    "# Count the rows in Tables Company, Product \n",
    "import sqlite3 as lite\n",
    "\n",
    "con = lite.connect( example2_db_filename )\n",
    "cur = con.cursor()\n",
    "with con:    \n",
    "    sql = \"SELECT count(name) FROM Company\"\n",
    "    cur.execute(sql)\n",
    "    company_cnt = cur.fetchall()\n",
    "    sql = \"SELECT count(name) FROM Product\"\n",
    "    cur.execute(sql)\n",
    "    product_cnt = cur.fetchall()\n",
    "    \n",
    "    print(\"Table Company :-----------\")\n",
    "    print(\"         Count: {:>10} \".format(company_cnt[0][0]))\n",
    "\n",
    "    print(\"Table Product :-----------\")\n",
    "    print(\"         Count: {:>10} \".format(product_cnt[0][0]))\n",
    "    \n",
    "con.close()"
   ]
  },
  {
   "cell_type": "code",
   "execution_count": 32,
   "metadata": {
    "collapsed": false,
    "slideshow": {
     "slide_type": "subslide"
    }
   },
   "outputs": [
    {
     "name": "stdout",
     "output_type": "stream",
     "text": [
      "<sqlite3.Connection object at 0x7f4b53e35110>\n",
      "0 main /home/ubuntu/workspace/notebooks/src/db/example2_products.db\n"
     ]
    }
   ],
   "source": [
    "con = lite.connect( example2_db_filename )\n",
    "print(con)\n",
    "\n",
    "# To get the file path of a database\n",
    "cur = con.cursor()\n",
    "cur.execute(\"PRAGMA database_list\")\n",
    "rows = cur.fetchall()\n",
    "\n",
    "for row in rows:\n",
    "    print(row[0], row[1], row[2])"
   ]
  },
  {
   "cell_type": "markdown",
   "metadata": {
    "slideshow": {
     "slide_type": "fragment"
    }
   },
   "source": [
    "*The third parameter* (`row[2]`) is the file name of the database."
   ]
  },
  {
   "cell_type": "code",
   "execution_count": 33,
   "metadata": {
    "collapsed": false,
    "slideshow": {
     "slide_type": "fragment"
    }
   },
   "outputs": [],
   "source": [
    "con.close()"
   ]
  },
  {
   "cell_type": "code",
   "execution_count": 34,
   "metadata": {
    "collapsed": false,
    "slideshow": {
     "slide_type": "subslide"
    }
   },
   "outputs": [
    {
     "name": "stdout",
     "output_type": "stream",
     "text": [
      "Company CREATE TABLE Company\n",
      "  (name varchar(20) primary key,\n",
      "   country varchar(20),\n",
      "   no_employees int,\n",
      "   for_profit char(1)\n",
      "   )\n",
      "Product CREATE TABLE Product\n",
      "  (name varchar(20) primary key,\n",
      "   price float,\n",
      "   category varchar(20),\n",
      "   manufacturer varchar(20), \n",
      "   FOREIGN KEY(manufacturer) REFERENCES Company(name) ON UPDATE CASCADE\n",
      "   )\n"
     ]
    }
   ],
   "source": [
    "listTables(example2_db_filename)"
   ]
  },
  {
   "cell_type": "code",
   "execution_count": 35,
   "metadata": {
    "collapsed": true,
    "slideshow": {
     "slide_type": "slide"
    }
   },
   "outputs": [],
   "source": [
    "example2_db_filename = \"example2_products.db\""
   ]
  },
  {
   "cell_type": "code",
   "execution_count": 36,
   "metadata": {
    "collapsed": false,
    "slideshow": {
     "slide_type": "fragment"
    }
   },
   "outputs": [],
   "source": [
    "listDbSchema(example2_db_filename)"
   ]
  },
  {
   "cell_type": "code",
   "execution_count": 37,
   "metadata": {
    "collapsed": false,
    "slideshow": {
     "slide_type": "slide"
    }
   },
   "outputs": [
    {
     "name": "stdout",
     "output_type": "stream",
     "text": [
      "Database: example2_products.db, Table Product: ------------------------------------------\n",
      "--- no foreign key ---\n"
     ]
    }
   ],
   "source": [
    "listForeignKeys(example2_db_filename, 'Product')"
   ]
  },
  {
   "cell_type": "code",
   "execution_count": null,
   "metadata": {
    "collapsed": true,
    "slideshow": {
     "slide_type": "skip"
    }
   },
   "outputs": [],
   "source": []
  },
  {
   "cell_type": "markdown",
   "metadata": {
    "slideshow": {
     "slide_type": "slide"
    }
   },
   "source": [
    "## Retrieving data"
   ]
  },
  {
   "cell_type": "code",
   "execution_count": 38,
   "metadata": {
    "collapsed": true,
    "slideshow": {
     "slide_type": "fragment"
    }
   },
   "outputs": [],
   "source": [
    "example2_db_filename = \"src/db/example2_products.db\""
   ]
  },
  {
   "cell_type": "code",
   "execution_count": 39,
   "metadata": {
    "collapsed": false,
    "slideshow": {
     "slide_type": "subslide"
    }
   },
   "outputs": [
    {
     "name": "stdout",
     "output_type": "stream",
     "text": [
      "('Gizmo', 19.99, 'GizmoWorks')\n",
      "('PowerGizmo', 29.99, 'Hitachi')\n",
      "('SuperGizmo', 49.99, 'Charity')\n"
     ]
    }
   ],
   "source": [
    "import sqlite3 as lite\n",
    "\n",
    "sql = \"\"\"SELECT name, price, manufacturer \n",
    "FROM Product\n",
    "WHERE category = 'gadget'\"\"\"\n",
    "\n",
    "con = lite.connect(example2_db_filename)\n",
    "cur = con.cursor()    \n",
    "cur.execute(sql)\n",
    "\n",
    "rows = cur.fetchall()\n",
    "if len(rows) == 0:\n",
    "    print(\"[{}] No {} records.\".format(example2_db_filename, 'Product'))\n",
    "else:\n",
    "    for row in rows:\n",
    "        print(row)\n",
    "        \n",
    "con.close()"
   ]
  },
  {
   "cell_type": "code",
   "execution_count": null,
   "metadata": {
    "collapsed": true,
    "slideshow": {
     "slide_type": "skip"
    }
   },
   "outputs": [],
   "source": []
  },
  {
   "cell_type": "markdown",
   "metadata": {
    "slideshow": {
     "slide_type": "slide"
    }
   },
   "source": [
    "## Table Views\n",
    "\n",
    "```sql\n",
    "CREATE VIEW ... \n",
    "```"
   ]
  },
  {
   "cell_type": "code",
   "execution_count": 40,
   "metadata": {
    "collapsed": false,
    "slideshow": {
     "slide_type": "fragment"
    }
   },
   "outputs": [],
   "source": [
    "import sqlite3 as lite\n",
    "\n",
    "con = lite.connect(db_filepath)    \n",
    "with con:\n",
    "    sql = \"\"\"CREATE VIEW view_cars AS \n",
    "    SELECT Id, Name FROM Cars\"\"\"\n",
    "    \n",
    "    cur = con.cursor() \n",
    "    cur.execute(sql)\n",
    "        \n",
    "con.close()"
   ]
  },
  {
   "cell_type": "code",
   "execution_count": 41,
   "metadata": {
    "collapsed": true,
    "slideshow": {
     "slide_type": "subslide"
    }
   },
   "outputs": [],
   "source": [
    "import sqlite3 as lite\n",
    "\n",
    "def listViews(db_filename):\n",
    "    sql = \"SELECT name, sql FROM sqlite_master WHERE type='view' ORDER BY name;\"\n",
    "\n",
    "    con = lite.connect(db_filename)\n",
    "    cur = con.cursor()\n",
    "    cur.execute(sql)\n",
    "    rows = cur.fetchall()\n",
    "    con.close()\n",
    "\n",
    "    for row in rows:\n",
    "        print(\"{:4} {:16}\".format(*row))"
   ]
  },
  {
   "cell_type": "code",
   "execution_count": 42,
   "metadata": {
    "collapsed": false,
    "slideshow": {
     "slide_type": "fragment"
    }
   },
   "outputs": [
    {
     "name": "stdout",
     "output_type": "stream",
     "text": [
      "view_cars CREATE VIEW view_cars AS \n",
      "    SELECT Id, Name FROM Cars\n"
     ]
    }
   ],
   "source": [
    "listViews(db_filepath)"
   ]
  },
  {
   "cell_type": "code",
   "execution_count": 43,
   "metadata": {
    "collapsed": false
   },
   "outputs": [],
   "source": [
    "import sqlite3 as lite\n",
    "\n",
    "con = lite.connect(example2_db_filename)    \n",
    "with con:\n",
    "    sql = \"\"\"CREATE VIEW view_product_gadget AS \n",
    "    SELECT name, price, manufacturer FROM Product WHERE category = 'gadget'\"\"\"\n",
    "    \n",
    "    cur = con.cursor() \n",
    "    cur.execute(sql)\n",
    "        \n",
    "con.close()"
   ]
  },
  {
   "cell_type": "code",
   "execution_count": 44,
   "metadata": {
    "collapsed": false,
    "slideshow": {
     "slide_type": "skip"
    }
   },
   "outputs": [
    {
     "name": "stdout",
     "output_type": "stream",
     "text": [
      "view_product_gadget CREATE VIEW view_product_gadget AS \n",
      "    SELECT name, price, manufacturer FROM Product WHERE category = 'gadget'\n"
     ]
    }
   ],
   "source": [
    "listViews(example2_db_filename)"
   ]
  },
  {
   "cell_type": "markdown",
   "metadata": {
    "slideshow": {
     "slide_type": "slide"
    }
   },
   "source": [
    "## Saving data schema to CSV using Pandas"
   ]
  },
  {
   "cell_type": "code",
   "execution_count": 45,
   "metadata": {
    "collapsed": false,
    "slideshow": {
     "slide_type": "subslide"
    }
   },
   "outputs": [
    {
     "name": "stdout",
     "output_type": "stream",
     "text": [
      "   Id        Name   Price\n",
      "0   1        Audi   62300\n",
      "1   2    Mercedes   57127\n",
      "2   3       Skoda    9000\n",
      "3   4       Volvo   29000\n",
      "4   5     Bentley  350000\n",
      "5   6     Citroen   21000\n",
      "6   7      Hummer   41400\n",
      "7   8  Volkswagen   21600\n"
     ]
    }
   ],
   "source": [
    "import pandas as pd\n",
    "con = sqlite3.connect('src/db/test.db')\n",
    "\n",
    "table_name = \"Cars\"\n",
    "sql = \"SELECT * from %s\" % (table_name)\n",
    "table = pd.read_sql_query(sql, con)\n",
    "print(table)\n",
    "table.to_csv(table_name + '.csv', index_label='index')\n",
    "\n",
    "con.close()"
   ]
  },
  {
   "cell_type": "code",
   "execution_count": 46,
   "metadata": {
    "collapsed": true,
    "slideshow": {
     "slide_type": "subslide"
    }
   },
   "outputs": [],
   "source": [
    "import sqlite3\n",
    "import pandas as pd\n",
    "\n",
    "def listTablesViewsToCsv(db_filepath):\n",
    "    con = sqlite3.connect(db_filepath)\n",
    "    cursor = con.cursor()\n",
    "    \n",
    "    sql = \"SELECT name FROM sqlite_master WHERE type='table' or type='view';\"\n",
    "    cursor.execute(sql)\n",
    "    tables = cursor.fetchall()\n",
    "    \n",
    "    for table_name in tables:\n",
    "        table_name = table_name[0]\n",
    "        table = pd.read_sql_query(\"SELECT * from %s\" % table_name, con)\n",
    "        table.to_csv(table_name + '.csv', index_label='index')"
   ]
  },
  {
   "cell_type": "code",
   "execution_count": 47,
   "metadata": {
    "collapsed": false,
    "slideshow": {
     "slide_type": "fragment"
    }
   },
   "outputs": [],
   "source": [
    "listTablesViewsToCsv('src//db//test.db')"
   ]
  },
  {
   "cell_type": "markdown",
   "metadata": {
    "slideshow": {
     "slide_type": "slide"
    }
   },
   "source": [
    "# Cache.db"
   ]
  },
  {
   "cell_type": "code",
   "execution_count": 48,
   "metadata": {
    "collapsed": true,
    "slideshow": {
     "slide_type": "skip"
    }
   },
   "outputs": [],
   "source": [
    "con = lite.connect('cache.db', timeout=10)\n",
    "con.close()"
   ]
  },
  {
   "cell_type": "markdown",
   "metadata": {
    "slideshow": {
     "slide_type": "slide"
    }
   },
   "source": [
    "###  end of IPynb"
   ]
  }
 ],
 "metadata": {
  "anaconda-cloud": {},
  "celltoolbar": "Slideshow",
  "kernelspec": {
   "display_name": "Python [default]",
   "language": "python",
   "name": "python3"
  },
  "language_info": {
   "codemirror_mode": {
    "name": "ipython",
    "version": 3
   },
   "file_extension": ".py",
   "mimetype": "text/x-python",
   "name": "python",
   "nbconvert_exporter": "python",
   "pygments_lexer": "ipython3",
   "version": "3.4.5"
  }
 },
 "nbformat": 4,
 "nbformat_minor": 0
}
